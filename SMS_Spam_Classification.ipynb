{
  "nbformat": 4,
  "nbformat_minor": 0,
  "metadata": {
    "colab": {
      "name": "SMS Spam Classification.ipynb",
      "provenance": []
    },
    "kernelspec": {
      "name": "python3",
      "display_name": "Python 3"
    },
    "language_info": {
      "name": "python"
    }
  },
  "cells": [
    {
      "cell_type": "markdown",
      "metadata": {
        "id": "70aY1odLG_HS"
      },
      "source": [
        "# SMS Message Spam Classification - Using NLP\n",
        "\n"
      ]
    },
    {
      "cell_type": "markdown",
      "metadata": {
        "id": "KOhj-uNVIIGq"
      },
      "source": [
        "## Objective\n",
        "\n",
        "In this Notebook we will perform following tasks\n",
        "\n",
        "- Process the raw text message, cleaning and make it prepare for the model's input\n",
        "- create a classifier using which we can predict whether a message is spam or not"
      ]
    },
    {
      "cell_type": "markdown",
      "metadata": {
        "id": "pHyx-tXwc6qk"
      },
      "source": [
        "## Data\n",
        "\n",
        "In this project, we have used the ***UCI \n",
        "SMS Spam Collection Data Set***\n",
        "\n",
        "Link: https://archive.ics.uci.edu/ml/datasets/SMS+Spam+Collection"
      ]
    },
    {
      "cell_type": "code",
      "metadata": {
        "id": "f-GxRmk-G8Jh"
      },
      "source": [
        "# import all the necessary libraries\n",
        "\n",
        "import numpy as np\n",
        "import pandas as pd\n",
        "import matplotlib.pyplot as plt\n",
        "%matplotlib inline\n",
        "\n",
        "import seaborn as sns\n",
        "import nltk"
      ],
      "execution_count": null,
      "outputs": []
    },
    {
      "cell_type": "code",
      "metadata": {
        "id": "OXdFgA_RJtRa"
      },
      "source": [
        "nltk.download('all')"
      ],
      "execution_count": null,
      "outputs": []
    },
    {
      "cell_type": "code",
      "metadata": {
        "id": "CDL1TYJNK2Jy"
      },
      "source": [
        "# read & load the dataset into the pandas dataframe\n",
        "df = pd.read_csv('/content/SMSSpamCollection', sep='\\t', names=['label', 'message'])"
      ],
      "execution_count": null,
      "outputs": []
    },
    {
      "cell_type": "code",
      "metadata": {
        "colab": {
          "base_uri": "https://localhost:8080/"
        },
        "id": "F0poQRTIbMCu",
        "outputId": "e07bfd70-9759-49c8-d1d6-053241ce71ff"
      },
      "source": [
        "# No. of Rows & Columns in the Dataset\n",
        "print(f'No. of Rows: {df.shape[0]}, Columns: {df.shape[1]}')"
      ],
      "execution_count": null,
      "outputs": [
        {
          "output_type": "stream",
          "name": "stdout",
          "text": [
            "No. of Rows: 5572, Columns: 2\n"
          ]
        }
      ]
    },
    {
      "cell_type": "code",
      "metadata": {
        "colab": {
          "base_uri": "https://localhost:8080/",
          "height": 204
        },
        "id": "uXjEVBjrbOb3",
        "outputId": "de1ee968-f702-4f7f-8b96-6ac6f98b8893"
      },
      "source": [
        "# See first 5 records of the Dataset\n",
        "df.head()"
      ],
      "execution_count": null,
      "outputs": [
        {
          "output_type": "execute_result",
          "data": {
            "text/html": [
              "<div>\n",
              "<style scoped>\n",
              "    .dataframe tbody tr th:only-of-type {\n",
              "        vertical-align: middle;\n",
              "    }\n",
              "\n",
              "    .dataframe tbody tr th {\n",
              "        vertical-align: top;\n",
              "    }\n",
              "\n",
              "    .dataframe thead th {\n",
              "        text-align: right;\n",
              "    }\n",
              "</style>\n",
              "<table border=\"1\" class=\"dataframe\">\n",
              "  <thead>\n",
              "    <tr style=\"text-align: right;\">\n",
              "      <th></th>\n",
              "      <th>label</th>\n",
              "      <th>message</th>\n",
              "    </tr>\n",
              "  </thead>\n",
              "  <tbody>\n",
              "    <tr>\n",
              "      <th>0</th>\n",
              "      <td>ham</td>\n",
              "      <td>Go until jurong point, crazy.. Available only ...</td>\n",
              "    </tr>\n",
              "    <tr>\n",
              "      <th>1</th>\n",
              "      <td>ham</td>\n",
              "      <td>Ok lar... Joking wif u oni...</td>\n",
              "    </tr>\n",
              "    <tr>\n",
              "      <th>2</th>\n",
              "      <td>spam</td>\n",
              "      <td>Free entry in 2 a wkly comp to win FA Cup fina...</td>\n",
              "    </tr>\n",
              "    <tr>\n",
              "      <th>3</th>\n",
              "      <td>ham</td>\n",
              "      <td>U dun say so early hor... U c already then say...</td>\n",
              "    </tr>\n",
              "    <tr>\n",
              "      <th>4</th>\n",
              "      <td>ham</td>\n",
              "      <td>Nah I don't think he goes to usf, he lives aro...</td>\n",
              "    </tr>\n",
              "  </tbody>\n",
              "</table>\n",
              "</div>"
            ],
            "text/plain": [
              "  label                                            message\n",
              "0   ham  Go until jurong point, crazy.. Available only ...\n",
              "1   ham                      Ok lar... Joking wif u oni...\n",
              "2  spam  Free entry in 2 a wkly comp to win FA Cup fina...\n",
              "3   ham  U dun say so early hor... U c already then say...\n",
              "4   ham  Nah I don't think he goes to usf, he lives aro..."
            ]
          },
          "metadata": {},
          "execution_count": 5
        }
      ]
    },
    {
      "cell_type": "code",
      "metadata": {
        "colab": {
          "base_uri": "https://localhost:8080/",
          "height": 487
        },
        "id": "UUhkkXi8LT9D",
        "outputId": "1e996cd7-83f5-4a51-de05-94afb1c65720"
      },
      "source": [
        "# Plot the overall distribution of the different classes in the Dataset\n",
        "\n",
        "plt.figure(figsize=(12, 8))\n",
        "size = list(df['label'].value_counts())\n",
        "labels = ['Ham', 'Spam']\n",
        "colors = ['tomato', 'mediumspringgreen']\n",
        "explode = [0, 0.2]\n",
        "\n",
        "\n",
        "plt.pie(size, labels=labels, colors=colors, explode=explode, shadow=True, \n",
        "        autopct='%1.1f%%', labeldistance=1.1, textprops={'fontsize':15});\n",
        "\n",
        "plt.title('Overall Distribution of Spam & Ham class in the Dataset', size=20);"
      ],
      "execution_count": null,
      "outputs": [
        {
          "output_type": "display_data",
          "data": {
            "image/png": "[encoded data removed]",
            "text/plain": [
              "<Figure size 864x576 with 1 Axes>"
            ]
          },
          "metadata": {}
        }
      ]
    },
    {
      "cell_type": "markdown",
      "metadata": {
        "id": "-imZ2IbZQnu7"
      },
      "source": [
        "**Remarks:**\n",
        "\n",
        "As our dataset **majorly (86.6%)** contains **Ham class**, and  **only (13.4%)** of **spam class**, we can say it's an **imbalance dataset**."
      ]
    },
    {
      "cell_type": "markdown",
      "metadata": {
        "id": "vLqOZZbkcxRN"
      },
      "source": [
        "## Data Pre-Processing\n",
        "\n",
        "As our dataset contains raw text message we will perform followings \n",
        "- **Word Tokenization** \n",
        "- **Eliminate Punctuations and Stop Words**\n",
        "- **Stemming**\n",
        "- **Lemmatization**\n",
        "- **Binary Bag of words**\n",
        "- **TF-IDF**"
      ]
    },
    {
      "cell_type": "code",
      "metadata": {
        "id": "B4bcrkgce_Ul"
      },
      "source": [
        "from nltk.stem import PorterStemmer\n",
        "from nltk.stem import WordNetLemmatizer\n",
        "\n",
        "from nltk.corpus import stopwords\n",
        "import re"
      ],
      "execution_count": null,
      "outputs": []
    },
    {
      "cell_type": "code",
      "metadata": {
        "id": "0HK-gJQogke2"
      },
      "source": [
        "# Create Objects\n",
        "ps = PorterStemmer()\n",
        "wnl = WordNetLemmatizer()"
      ],
      "execution_count": null,
      "outputs": []
    },
    {
      "cell_type": "code",
      "metadata": {
        "id": "9mqKtxc1cwjY"
      },
      "source": [
        "corpus_ps, corpus_wnl = [], []\n",
        "\n",
        "for i in range(len(df)):\n",
        "\n",
        "  # eliminate punctuations, lower all the alphabates and convert into a list of words\n",
        "  words = re.sub('[^a-zA-Z]', ' ', df['message'][i]).lower().split()\n",
        "\n",
        "  # Stemming Using PorterStemmer object\n",
        "  words_ps = [ps.stem(i) for i in words if i not in set(stopwords.words('english'))]\n",
        "  corpus_ps.append(' '.join(words_ps))\n",
        "\n",
        "  # Lemmatize using WordNetLemmatizer object\n",
        "  words_wnl = [wnl.lemmatize(i) for i in words if i not in set(stopwords.words('english'))]\n",
        "  corpus_wnl.append(' '.join(words_wnl))"
      ],
      "execution_count": null,
      "outputs": []
    },
    {
      "cell_type": "code",
      "metadata": {
        "colab": {
          "base_uri": "https://localhost:8080/"
        },
        "id": "iJ_1WWXAkvNw",
        "outputId": "59024f53-c0bc-4947-8bfa-d2ae0b937557"
      },
      "source": [
        "# Check first 5 records after processing\n",
        "corpus_ps[:5]"
      ],
      "execution_count": null,
      "outputs": [
        {
          "output_type": "execute_result",
          "data": {
            "text/plain": [
              "['go jurong point crazi avail bugi n great world la e buffet cine got amor wat',\n",
              " 'ok lar joke wif u oni',\n",
              " 'free entri wkli comp win fa cup final tkt st may text fa receiv entri question std txt rate c appli',\n",
              " 'u dun say earli hor u c alreadi say',\n",
              " 'nah think goe usf live around though']"
            ]
          },
          "metadata": {},
          "execution_count": 10
        }
      ]
    },
    {
      "cell_type": "code",
      "metadata": {
        "colab": {
          "base_uri": "https://localhost:8080/"
        },
        "id": "PNqvvI-0kzcS",
        "outputId": "023abd73-3f9f-45c9-a5e6-1e5ae0ac097e"
      },
      "source": [
        "# Check first 5 records after processing\n",
        "corpus_wnl[:5]"
      ],
      "execution_count": null,
      "outputs": [
        {
          "output_type": "execute_result",
          "data": {
            "text/plain": [
              "['go jurong point crazy available bugis n great world la e buffet cine got amore wat',\n",
              " 'ok lar joking wif u oni',\n",
              " 'free entry wkly comp win fa cup final tkts st may text fa receive entry question std txt rate c apply',\n",
              " 'u dun say early hor u c already say',\n",
              " 'nah think go usf life around though']"
            ]
          },
          "metadata": {},
          "execution_count": 11
        }
      ]
    },
    {
      "cell_type": "code",
      "metadata": {
        "id": "VzzQ7kRbilZi"
      },
      "source": [
        "# Import necessary libraries to Vectorize all unique words for each sentence\n",
        "\n",
        "# For Performing Binary Bag of Words\n",
        "from sklearn.feature_extraction.text import CountVectorizer\n",
        "\n",
        "# For Performing TF-IDF\n",
        "from sklearn.feature_extraction.text import TfidfVectorizer"
      ],
      "execution_count": null,
      "outputs": []
    },
    {
      "cell_type": "code",
      "metadata": {
        "id": "qQK7h34jkSNL"
      },
      "source": [
        "# Create Vectorizer Objects\n",
        "cv = CountVectorizer()\n",
        "tv = TfidfVectorizer()"
      ],
      "execution_count": null,
      "outputs": []
    },
    {
      "cell_type": "code",
      "metadata": {
        "id": "MG36tp8akndJ"
      },
      "source": [
        "# Vectorize the words and convert into a numpy array\n",
        "X_cv_ps = cv.fit_transform(corpus_ps).toarray()\n",
        "X_cv_wnl = cv.fit_transform(corpus_wnl).toarray()\n",
        "\n",
        "X_tv_ps = tv.fit_transform(corpus_ps).toarray()\n",
        "X_tv_wnl = tv.fit_transform(corpus_wnl).toarray()"
      ],
      "execution_count": null,
      "outputs": []
    },
    {
      "cell_type": "code",
      "metadata": {
        "id": "iBDVM7jyoqqX"
      },
      "source": [
        "# Create a list of different feature input\n",
        "X = [X_cv_ps, X_cv_wnl, X_tv_ps, X_tv_wnl]"
      ],
      "execution_count": null,
      "outputs": []
    },
    {
      "cell_type": "code",
      "metadata": {
        "colab": {
          "base_uri": "https://localhost:8080/"
        },
        "id": "NTFPv97jlLK9",
        "outputId": "051bb0e0-63e0-453c-dd95-a43a88a710bc"
      },
      "source": [
        "X_cv_ps.shape, X_cv_wnl.shape, X_tv_ps.shape, X_tv_wnl.shape"
      ],
      "execution_count": null,
      "outputs": [
        {
          "output_type": "execute_result",
          "data": {
            "text/plain": [
              "((5572, 6296), (5572, 7098), (5572, 6296), (5572, 7098))"
            ]
          },
          "metadata": {},
          "execution_count": 16
        }
      ]
    },
    {
      "cell_type": "code",
      "metadata": {
        "id": "lpaW3p7rnJmH"
      },
      "source": [
        "# Create dummies from the label feature\n",
        "y = pd.get_dummies(df['label'])"
      ],
      "execution_count": null,
      "outputs": []
    },
    {
      "cell_type": "code",
      "metadata": {
        "colab": {
          "base_uri": "https://localhost:8080/",
          "height": 204
        },
        "id": "7uin3toUnSh-",
        "outputId": "112299ce-5bdf-41a8-d6ac-e73bf6bc8578"
      },
      "source": [
        "y.head()"
      ],
      "execution_count": null,
      "outputs": [
        {
          "output_type": "execute_result",
          "data": {
            "text/html": [
              "<div>\n",
              "<style scoped>\n",
              "    .dataframe tbody tr th:only-of-type {\n",
              "        vertical-align: middle;\n",
              "    }\n",
              "\n",
              "    .dataframe tbody tr th {\n",
              "        vertical-align: top;\n",
              "    }\n",
              "\n",
              "    .dataframe thead th {\n",
              "        text-align: right;\n",
              "    }\n",
              "</style>\n",
              "<table border=\"1\" class=\"dataframe\">\n",
              "  <thead>\n",
              "    <tr style=\"text-align: right;\">\n",
              "      <th></th>\n",
              "      <th>ham</th>\n",
              "      <th>spam</th>\n",
              "    </tr>\n",
              "  </thead>\n",
              "  <tbody>\n",
              "    <tr>\n",
              "      <th>0</th>\n",
              "      <td>1</td>\n",
              "      <td>0</td>\n",
              "    </tr>\n",
              "    <tr>\n",
              "      <th>1</th>\n",
              "      <td>1</td>\n",
              "      <td>0</td>\n",
              "    </tr>\n",
              "    <tr>\n",
              "      <th>2</th>\n",
              "      <td>0</td>\n",
              "      <td>1</td>\n",
              "    </tr>\n",
              "    <tr>\n",
              "      <th>3</th>\n",
              "      <td>1</td>\n",
              "      <td>0</td>\n",
              "    </tr>\n",
              "    <tr>\n",
              "      <th>4</th>\n",
              "      <td>1</td>\n",
              "      <td>0</td>\n",
              "    </tr>\n",
              "  </tbody>\n",
              "</table>\n",
              "</div>"
            ],
            "text/plain": [
              "   ham  spam\n",
              "0    1     0\n",
              "1    1     0\n",
              "2    0     1\n",
              "3    1     0\n",
              "4    1     0"
            ]
          },
          "metadata": {},
          "execution_count": 18
        }
      ]
    },
    {
      "cell_type": "code",
      "metadata": {
        "id": "92hKoZIRnWgn"
      },
      "source": [
        "# Remove the ham column\n",
        "y = y.iloc[:, 1].values"
      ],
      "execution_count": null,
      "outputs": []
    },
    {
      "cell_type": "code",
      "metadata": {
        "colab": {
          "base_uri": "https://localhost:8080/"
        },
        "id": "fVBzDRQjnbmo",
        "outputId": "30bfedd1-c74d-4f9a-a3d7-e7257880116c"
      },
      "source": [
        "y"
      ],
      "execution_count": null,
      "outputs": [
        {
          "output_type": "execute_result",
          "data": {
            "text/plain": [
              "array([0, 0, 1, ..., 0, 0, 0], dtype=uint8)"
            ]
          },
          "metadata": {},
          "execution_count": 20
        }
      ]
    },
    {
      "cell_type": "code",
      "metadata": {
        "colab": {
          "base_uri": "https://localhost:8080/"
        },
        "id": "e7yznVIWnpy9",
        "outputId": "916cb74c-8aab-4d76-c48e-19bc09421a67"
      },
      "source": [
        "y.shape"
      ],
      "execution_count": null,
      "outputs": [
        {
          "output_type": "execute_result",
          "data": {
            "text/plain": [
              "(5572,)"
            ]
          },
          "metadata": {},
          "execution_count": 21
        }
      ]
    },
    {
      "cell_type": "code",
      "metadata": {
        "id": "uLjKVy30mwC2"
      },
      "source": [
        "# split the dataset into training & testing\n",
        "from sklearn.model_selection import train_test_split"
      ],
      "execution_count": null,
      "outputs": []
    },
    {
      "cell_type": "markdown",
      "metadata": {
        "id": "YV8GnHVMUjK7"
      },
      "source": [
        "## Model Building"
      ]
    },
    {
      "cell_type": "code",
      "metadata": {
        "id": "0iPwKwAqUmYP"
      },
      "source": [
        "# Import the Algorithm Classes\n",
        "from sklearn.naive_bayes import MultinomialNB\n",
        "from sklearn.ensemble import RandomForestClassifier"
      ],
      "execution_count": null,
      "outputs": []
    },
    {
      "cell_type": "code",
      "metadata": {
        "id": "mD6jnSkGVNtN"
      },
      "source": [
        "# Create the Model objects\n",
        "mnb = MultinomialNB()\n",
        "rcf = RandomForestClassifier(random_state=0)\n",
        "\n",
        "# Create a list of models\n",
        "models = [mnb, rcf]"
      ],
      "execution_count": null,
      "outputs": []
    },
    {
      "cell_type": "markdown",
      "metadata": {
        "id": "d_g9Cv8RUU9d"
      },
      "source": [
        "## Model Evaluation"
      ]
    },
    {
      "cell_type": "code",
      "metadata": {
        "id": "pph1HtDESmAw"
      },
      "source": [
        "# import the model evaluation metrics\n",
        "\n",
        "from sklearn.metrics import confusion_matrix, accuracy_score, recall_score, precision_score, f1_score"
      ],
      "execution_count": null,
      "outputs": []
    },
    {
      "cell_type": "code",
      "metadata": {
        "id": "Coy1rp2sTQGt"
      },
      "source": [
        "def model_evaluation(y_pred, y_test):\n",
        "\n",
        "  '''This function takes predicted and actual target values\n",
        "  and prints different evaluation metrics'''\n",
        "\n",
        "  print(f'accuracy_score: {round(accuracy_score(y_pred, y_test), 4)}, recall_score: {round(recall_score(y_pred, y_test), 4)}')\n",
        "  print(f'precision_score: {round(precision_score(y_pred, y_test), 4)}, f1_score: {round(f1_score(y_pred, y_test), 4)}')\n",
        "  print(f'{confusion_matrix(y_pred, y_test)}')"
      ],
      "execution_count": null,
      "outputs": []
    },
    {
      "cell_type": "code",
      "metadata": {
        "id": "3lANs-FxrEvi"
      },
      "source": [
        "processes = ['Stemmed & Count Vectorized', 'Lemmatized & Count Vectorized', 'Stemmed & TF-IDF', 'Lemmatized & TF-IDF']"
      ],
      "execution_count": null,
      "outputs": []
    },
    {
      "cell_type": "code",
      "metadata": {
        "colab": {
          "base_uri": "https://localhost:8080/"
        },
        "id": "ihaww_2pUMCB",
        "outputId": "d606bcbe-6767-4b77-ba96-647952d95985"
      },
      "source": [
        "for i in models:\n",
        "  print(f'________________________{str(i).split(\"(\")[0]}________________________')\n",
        "  for j in range(4):\n",
        "    print(f'-----------------------{processes[j]}-----------------------')\n",
        "    X_train, X_test, y_train, y_test = train_test_split(X[j], y, test_size=0.2, random_state=0)\n",
        "    i.fit(X_train, y_train)\n",
        "    y_pred = i.predict(X_test)\n",
        "    model_evaluation(y_pred, y_test)"
      ],
      "execution_count": null,
      "outputs": [
        {
          "output_type": "stream",
          "name": "stdout",
          "text": [
            "________________________MultinomialNB________________________\n",
            "-----------------------Stemmed & Count Vectorized-----------------------\n",
            "accuracy_score: 0.9794, recall_score: 0.9102\n",
            "precision_score: 0.95, f1_score: 0.9297\n",
            "[[940   8]\n",
            " [ 15 152]]\n",
            "-----------------------Lemmatized & Count Vectorized-----------------------\n",
            "accuracy_score: 0.9767, recall_score: 0.8895\n",
            "precision_score: 0.9562, f1_score: 0.9217\n",
            "[[936   7]\n",
            " [ 19 153]]\n",
            "-----------------------Stemmed & TF-IDF-----------------------\n",
            "accuracy_score: 0.9695, recall_score: 1.0\n",
            "precision_score: 0.7875, f1_score: 0.8811\n",
            "[[955  34]\n",
            " [  0 126]]\n",
            "-----------------------Lemmatized & TF-IDF-----------------------\n",
            "accuracy_score: 0.9722, recall_score: 1.0\n",
            "precision_score: 0.8062, f1_score: 0.8927\n",
            "[[955  31]\n",
            " [  0 129]]\n",
            "________________________RandomForestClassifier________________________\n",
            "-----------------------Stemmed & Count Vectorized-----------------------\n",
            "accuracy_score: 0.9785, recall_score: 1.0\n",
            "precision_score: 0.85, f1_score: 0.9189\n",
            "[[955  24]\n",
            " [  0 136]]\n",
            "-----------------------Lemmatized & Count Vectorized-----------------------\n",
            "accuracy_score: 0.9812, recall_score: 1.0\n",
            "precision_score: 0.8688, f1_score: 0.9298\n",
            "[[955  21]\n",
            " [  0 139]]\n",
            "-----------------------Stemmed & TF-IDF-----------------------\n",
            "accuracy_score: 0.9803, recall_score: 0.9929\n",
            "precision_score: 0.8688, f1_score: 0.9267\n",
            "[[954  21]\n",
            " [  1 139]]\n",
            "-----------------------Lemmatized & TF-IDF-----------------------\n",
            "accuracy_score: 0.983, recall_score: 1.0\n",
            "precision_score: 0.8812, f1_score: 0.9369\n",
            "[[955  19]\n",
            " [  0 141]]\n"
          ]
        }
      ]
    },
    {
      "cell_type": "markdown",
      "metadata": {
        "id": "__ZqX37pvcHo"
      },
      "source": [
        "**Remarks:**\n",
        "\n",
        "Hence from the above Analysis of **f1_score**, we can see that the **RandomForest Classifier Model** with applyed **Lemmatization & TF-IDF**, performed best among all the models."
      ]
    },
    {
      "cell_type": "markdown",
      "metadata": {
        "id": "N-wTWNRjQIeP"
      },
      "source": [
        "## Final Model"
      ]
    },
    {
      "cell_type": "code",
      "metadata": {
        "colab": {
          "base_uri": "https://localhost:8080/"
        },
        "id": "wcLN1XpoQKuF",
        "outputId": "54089bed-b3d1-4abe-8fe7-8cca22a56cf8"
      },
      "source": [
        "X_train, X_test, y_train, y_test = train_test_split(X_tv_wnl, y, test_size=0.2, random_state=0)\n",
        "final_model = RandomForestClassifier(random_state=0)\n",
        "final_model.fit(X_train, y_train)\n",
        "final_y_pred = final_model.predict(X_test)\n",
        "model_evaluation(final_y_pred, y_test)"
      ],
      "execution_count": null,
      "outputs": [
        {
          "output_type": "stream",
          "name": "stdout",
          "text": [
            "accuracy_score: 0.983, recall_score: 1.0\n",
            "precision_score: 0.8812, f1_score: 0.9369\n",
            "[[955  19]\n",
            " [  0 141]]\n"
          ]
        }
      ]
    }
  ]
}